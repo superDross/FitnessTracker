{
 "cells": [
  {
   "cell_type": "code",
   "execution_count": 1,
   "metadata": {},
   "outputs": [],
   "source": [
    "''' \n",
    "Usage:\n",
    "    python manage.py shell\n",
    "    >> execfile('create_test_data.py')\n",
    "'''\n",
    "from django.db.models.query_utils import DeferredAttribute\n",
    "\n",
    "from tracker.models import (\n",
    "    Profile, Exercise, ExerciseInstance,\n",
    "    Classification, Set, MuscleGroup\n",
    ")\n",
    "\n",
    "import pandas as pd\n",
    "from IPython.display import display, HTML\n"
   ]
  },
  {
   "cell_type": "code",
   "execution_count": 2,
   "metadata": {},
   "outputs": [
    {
     "data": {
      "text/html": [
       "<div>\n",
       "<style scoped>\n",
       "    .dataframe tbody tr th:only-of-type {\n",
       "        vertical-align: middle;\n",
       "    }\n",
       "\n",
       "    .dataframe tbody tr th {\n",
       "        vertical-align: top;\n",
       "    }\n",
       "\n",
       "    .dataframe thead th {\n",
       "        text-align: right;\n",
       "    }\n",
       "</style>\n",
       "<table border=\"1\" class=\"dataframe\">\n",
       "  <thead>\n",
       "    <tr style=\"text-align: right;\">\n",
       "      <th></th>\n",
       "      <th></th>\n",
       "      <th></th>\n",
       "      <th>Reps</th>\n",
       "      <th>Weight</th>\n",
       "    </tr>\n",
       "    <tr>\n",
       "      <th>Exercise</th>\n",
       "      <th>Date</th>\n",
       "      <th>Sets</th>\n",
       "      <th></th>\n",
       "      <th></th>\n",
       "    </tr>\n",
       "  </thead>\n",
       "  <tbody>\n",
       "    <tr>\n",
       "      <th rowspan=\"2\" valign=\"top\">Pull Up</th>\n",
       "      <th rowspan=\"2\" valign=\"top\">2018-09-09</th>\n",
       "      <th>1</th>\n",
       "      <td>12</td>\n",
       "      <td>20.0</td>\n",
       "    </tr>\n",
       "    <tr>\n",
       "      <th>2</th>\n",
       "      <td>10</td>\n",
       "      <td>20.0</td>\n",
       "    </tr>\n",
       "  </tbody>\n",
       "</table>\n",
       "</div>"
      ],
      "text/plain": [
       "                          Reps  Weight\n",
       "Exercise Date       Sets              \n",
       "Pull Up  2018-09-09 1       12    20.0\n",
       "                    2       10    20.0"
      ]
     },
     "execution_count": 2,
     "metadata": {},
     "output_type": "execute_result"
    }
   ],
   "source": [
    "class InstanceSetDict(object):\n",
    "    ''' Transform an ExerciseInstance objects set data into a dict.'''\n",
    "    \n",
    "    def __init__(self, instance):\n",
    "        self.instance = instance\n",
    "        self.sets = instance.sets.all()\n",
    "        self.attributes = self._get_all_set_attr()\n",
    "        self.dict = {}\n",
    "        self._create_dict()\n",
    "\n",
    "    def _get_all_set_attr(self):\n",
    "        ''' Get Set attributes of interest and return as a list.'''\n",
    "        set_attr_keys = []\n",
    "        for k, i in Set.__dict__.items():\n",
    "            if isinstance(i, DeferredAttribute) and k != 'id':\n",
    "                set_attr_keys.append(k.replace('_', ''))\n",
    "        return set_attr_keys\n",
    "    \n",
    "    def _add_header(self):\n",
    "        ''' Add set attributes as keys to the table dict.'''\n",
    "        self.dict = {k.capitalize(): [] for k in self.attributes}\n",
    "    \n",
    "    def _get_set_value(self, aset, attr):\n",
    "        ''' Get the value of a given Set objects attribute.'''\n",
    "        set_value = getattr(aset, attr)\n",
    "        if set_value:\n",
    "            if attr in ['weight', 'distance']:\n",
    "                # get participants preffered unit of measurement and return value in said unit\n",
    "                unit = getattr(self.instance.participant, f'{attr}_unit')\n",
    "                set_value = getattr(set_value, unit)\n",
    "        else:\n",
    "            set_value = None       \n",
    "        return set_value\n",
    "        \n",
    "    def _add_set_data(self):\n",
    "        ''' Add all sets data to the dictionary'''\n",
    "        for aset in self.sets:\n",
    "            for attr in self.attributes:\n",
    "                set_value = self._get_set_value(aset, attr)\n",
    "                self.dict[attr.capitalize()].append(set_value)\n",
    "    \n",
    "    def _create_dict(self):\n",
    "        self._add_header()\n",
    "        self._add_set_data()\n",
    "        \n",
    "    def to_dataframe(self):\n",
    "        df = pd.DataFrame.from_dict(self.dict)\n",
    "        df = df[df.columns[~df.isnull().all()]]\n",
    "        df['Sets'] = df.index + 1\n",
    "        df['Date'] = self.instance.date\n",
    "        df['Exercise'] = self.instance.exercise.name\n",
    "        df = df.set_index(['Exercise', 'Date', 'Sets'])\n",
    "        return df\n",
    "    \n",
    "    def to_html(self):\n",
    "        df = self.to_dataframe()\n",
    "        return pd.DataFrame.to_html(df)\n",
    "        \n",
    "\n",
    "\n",
    "instance = ExerciseInstance.objects.first()\n",
    "d = InstanceSetDict(instance)\n",
    "d.to_dataframe()"
   ]
  },
  {
   "cell_type": "code",
   "execution_count": 8,
   "metadata": {},
   "outputs": [
    {
     "data": {
      "text/plain": [
       "'<table border=\"1\" class=\"dataframe\">\\n  <thead>\\n    <tr>\\n      <th>Exercise</th>\\n      <th colspan=\"2\" halign=\"left\">Push Up</th>\\n      <th colspan=\"3\" halign=\"left\">Dip</th>\\n    </tr>\\n    <tr>\\n      <th>Date</th>\\n      <th colspan=\"2\" halign=\"left\">2018-10-09</th>\\n      <th colspan=\"3\" halign=\"left\">2018-11-09</th>\\n    </tr>\\n    <tr>\\n      <th>Sets</th>\\n      <th>1</th>\\n      <th>2</th>\\n      <th>1</th>\\n      <th>2</th>\\n      <th>3</th>\\n    </tr>\\n  </thead>\\n  <tbody>\\n    <tr>\\n      <th>Reps</th>\\n      <td>50</td>\\n      <td>40</td>\\n      <td>15</td>\\n      <td>14</td>\\n      <td>12</td>\\n    </tr>\\n  </tbody>\\n</table>'"
      ]
     },
     "execution_count": 8,
     "metadata": {},
     "output_type": "execute_result"
    }
   ],
   "source": [
    "import datetime\n",
    "\n",
    "\n",
    "def exercise_instance_table(qs):\n",
    "    ''' Create a HTML table from a given ExerciseInstance QuerySet'''\n",
    "    # Get all instance by Exercise Type\n",
    "    all_dfs = []\n",
    "    for instance in qs:\n",
    "        df = InstanceSetDict(instance).to_dataframe()\n",
    "        all_dfs.append(df)\n",
    "\n",
    "\n",
    "    big_table = pd.concat(all_dfs, sort=False).T\n",
    "    return big_table.to_html()\n",
    "\n",
    "qs = ExerciseInstance.objects.filter(exercise__name='Pull Up')\n",
    "qs = ExerciseInstance.objects.filter(date=datetime.date(2018, 10, 9))\n",
    "qs = ExerciseInstance.objects.filter(exercise__classification__name='Push')\n",
    "\n",
    "exercise_instance_table(qs)"
   ]
  },
  {
   "cell_type": "code",
   "execution_count": null,
   "metadata": {},
   "outputs": [],
   "source": []
  },
  {
   "cell_type": "code",
   "execution_count": null,
   "metadata": {},
   "outputs": [],
   "source": []
  },
  {
   "cell_type": "code",
   "execution_count": null,
   "metadata": {},
   "outputs": [],
   "source": []
  },
  {
   "cell_type": "code",
   "execution_count": null,
   "metadata": {},
   "outputs": [],
   "source": []
  },
  {
   "cell_type": "code",
   "execution_count": null,
   "metadata": {},
   "outputs": [],
   "source": []
  }
 ],
 "metadata": {
  "kernelspec": {
   "display_name": "Django Shell-Plus",
   "language": "python",
   "name": "django_extensions"
  },
  "language_info": {
   "codemirror_mode": {
    "name": "ipython",
    "version": 3
   },
   "file_extension": ".py",
   "mimetype": "text/x-python",
   "name": "python",
   "nbconvert_exporter": "python",
   "pygments_lexer": "ipython3",
   "version": "3.6.6"
  }
 },
 "nbformat": 4,
 "nbformat_minor": 2
}
